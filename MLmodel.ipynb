import pandas as pd
data = pd.read_csv('taxi.csv', sep='\t')
x = data.drop('Numberofweeklyriders',axis=1)
y = data['Numberofweeklyriders']
from sklearn.model_selection import train_test_split
x_train,x_test,y_train,y_test = train_test_split(x,y,test_size=0.25,random_state=0)
from sklearn.linear_model import LinearRegression
model = LinearRegression()
model.fit(x_train,y_train)
print("Training score",model.score(x_train,y_train))
import pickle
pickle.dump(model,open('model.pkl','wb'))
model1 = pickle.load(open('model.pkl','rb'))
print(model1.predict([[63,1610000,16200,200]]))
